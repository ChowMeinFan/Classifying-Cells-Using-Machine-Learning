{
  "nbformat": 4,
  "nbformat_minor": 0,
  "metadata": {
    "colab": {
      "provenance": [],
      "gpuType": "T4",
      "authorship_tag": "ABX9TyNFFOqP15yeSzYC6yOJGIwv",
      "include_colab_link": true
    },
    "kernelspec": {
      "name": "python3",
      "display_name": "Python 3"
    },
    "language_info": {
      "name": "python"
    },
    "accelerator": "GPU"
  },
  "cells": [
    {
      "cell_type": "markdown",
      "metadata": {
        "id": "view-in-github",
        "colab_type": "text"
      },
      "source": [
        "<a href=\"https://colab.research.google.com/github/ChowMeinFan/Classifying-Cells-Using-Machine-Learning/blob/main/ClassifyingCells(Pretrained).ipynb\" target=\"_parent\"><img src=\"https://colab.research.google.com/assets/colab-badge.svg\" alt=\"Open In Colab\"/></a>"
      ]
    },
    {
      "cell_type": "code",
      "execution_count": null,
      "metadata": {
        "id": "ERIiRst9C1xA",
        "colab": {
          "base_uri": "https://localhost:8080/"
        },
        "outputId": "de78c6c5-2e8c-4eaa-f461-a52bd4bcfd7e"
      },
      "outputs": [
        {
          "output_type": "stream",
          "name": "stdout",
          "text": [
            "Drive already mounted at /content/drive; to attempt to forcibly remount, call drive.mount(\"/content/drive\", force_remount=True).\n"
          ]
        }
      ],
      "source": [
        "#Mount our Drive\n",
        "from google.colab import drive\n",
        "drive.mount('/content/drive')"
      ]
    },
    {
      "cell_type": "code",
      "source": [
        "#Import necessary packages\n",
        "import numpy as np\n",
        "from tensorflow import keras\n",
        "from keras import layers\n",
        "from keras.models import load_model\n",
        "from keras.models import Sequential\n",
        "from keras.layers import Activation, Dense, Flatten\n",
        "from keras.optimizers import Adam, SGD, RMSprop, Adagrad, Adadelta, Nadam, Adamax, Lion, Adafactor\n",
        "from keras.metrics import categorical_crossentropy\n",
        "from keras.preprocessing.image import ImageDataGenerator\n",
        "from keras.layers import BatchNormalization\n",
        "from mlxtend.evaluate import confusion_matrix\n",
        "import itertools\n",
        "import matplotlib.pyplot as plt\n",
        "import tensorflow as tf\n",
        "\n",
        "image_size = (224, 224)\n",
        "class_names = ['COS7', 'HEK293T', 'L', 'NC']\n",
        "\n",
        "\n",
        "train_path = '/content/drive/MyDrive/CSC308CellImagesV2/TrainingData'\n",
        "test_path = '/content/drive/MyDrive/CSC308CellImagesV2/TestingData'\n",
        "valid_path = '/content/drive/MyDrive/CSC308CellImagesV2/ValidationData'"
      ],
      "metadata": {
        "id": "FA0JfXfmwCvH"
      },
      "execution_count": null,
      "outputs": []
    },
    {
      "cell_type": "code",
      "source": [
        "#Assign variables to our preseparated datasets\n",
        "train_dataset = tf.keras.preprocessing.image_dataset_from_directory(train_path, image_size=image_size, batch_size=14, label_mode='categorical')\n",
        "valid_dataset = tf.keras.preprocessing.image_dataset_from_directory(valid_path, image_size=image_size, batch_size=3, label_mode='categorical')\n",
        "test_dataset = tf.keras.preprocessing.image_dataset_from_directory(test_path, image_size=image_size, batch_size=3, label_mode='categorical')"
      ],
      "metadata": {
        "colab": {
          "base_uri": "https://localhost:8080/"
        },
        "id": "UoDdqcuLwGrk",
        "outputId": "17b179a3-ac3b-4bee-c34a-e61bce897dd3"
      },
      "execution_count": null,
      "outputs": [
        {
          "output_type": "stream",
          "name": "stdout",
          "text": [
            "Found 84 files belonging to 4 classes.\n",
            "Found 12 files belonging to 4 classes.\n",
            "Found 24 files belonging to 4 classes.\n"
          ]
        }
      ]
    },
    {
      "cell_type": "code",
      "source": [
        "#Import a pretrained model (VGG16)\n",
        "vgg16_model = tf.keras.applications.VGG16()"
      ],
      "metadata": {
        "id": "GAntRrSQwLOw"
      },
      "execution_count": null,
      "outputs": []
    },
    {
      "cell_type": "code",
      "source": [
        "#Function to track time, Initialize a callback object\n",
        "from timeit import default_timer as timer\n",
        "\n",
        "class TimingCallback(keras.callbacks.Callback):\n",
        "    def __init__(self, logs={}):\n",
        "        self.logs=[]\n",
        "    def on_epoch_begin(self, epoch, logs={}):\n",
        "        self.starttime = timer()\n",
        "    def on_epoch_end(self, epoch, logs={}):\n",
        "        self.logs.append(timer()-self.starttime)\n",
        "\n",
        "cb = TimingCallback()"
      ],
      "metadata": {
        "id": "OoQCXEZh2Osb"
      },
      "execution_count": null,
      "outputs": []
    },
    {
      "cell_type": "code",
      "source": [
        "#Pull layers from pretrained model\n",
        "model = Sequential()\n",
        "for layer in vgg16_model.layers[:-1]:\n",
        "    model.add(layer)\n",
        "for layer in model.layers:\n",
        "    layer.trainable = False\n",
        "\n",
        "model.add(Dense(len(class_names), activation='softmax'))\n",
        "model.summary()"
      ],
      "metadata": {
        "colab": {
          "base_uri": "https://localhost:8080/"
        },
        "id": "g_k_HQJJ1WLh",
        "outputId": "60c4867f-715f-4d48-9593-58da978e72a7"
      },
      "execution_count": null,
      "outputs": [
        {
          "output_type": "stream",
          "name": "stdout",
          "text": [
            "Model: \"sequential_2\"\n",
            "_________________________________________________________________\n",
            " Layer (type)                Output Shape              Param #   \n",
            "=================================================================\n",
            " block1_conv1 (Conv2D)       (None, 224, 224, 64)      1792      \n",
            "                                                                 \n",
            " block1_conv2 (Conv2D)       (None, 224, 224, 64)      36928     \n",
            "                                                                 \n",
            " block1_pool (MaxPooling2D)  (None, 112, 112, 64)      0         \n",
            "                                                                 \n",
            " block2_conv1 (Conv2D)       (None, 112, 112, 128)     73856     \n",
            "                                                                 \n",
            " block2_conv2 (Conv2D)       (None, 112, 112, 128)     147584    \n",
            "                                                                 \n",
            " block2_pool (MaxPooling2D)  (None, 56, 56, 128)       0         \n",
            "                                                                 \n",
            " block3_conv1 (Conv2D)       (None, 56, 56, 256)       295168    \n",
            "                                                                 \n",
            " block3_conv2 (Conv2D)       (None, 56, 56, 256)       590080    \n",
            "                                                                 \n",
            " block3_conv3 (Conv2D)       (None, 56, 56, 256)       590080    \n",
            "                                                                 \n",
            " block3_pool (MaxPooling2D)  (None, 28, 28, 256)       0         \n",
            "                                                                 \n",
            " block4_conv1 (Conv2D)       (None, 28, 28, 512)       1180160   \n",
            "                                                                 \n",
            " block4_conv2 (Conv2D)       (None, 28, 28, 512)       2359808   \n",
            "                                                                 \n",
            " block4_conv3 (Conv2D)       (None, 28, 28, 512)       2359808   \n",
            "                                                                 \n",
            " block4_pool (MaxPooling2D)  (None, 14, 14, 512)       0         \n",
            "                                                                 \n",
            " block5_conv1 (Conv2D)       (None, 14, 14, 512)       2359808   \n",
            "                                                                 \n",
            " block5_conv2 (Conv2D)       (None, 14, 14, 512)       2359808   \n",
            "                                                                 \n",
            " block5_conv3 (Conv2D)       (None, 14, 14, 512)       2359808   \n",
            "                                                                 \n",
            " block5_pool (MaxPooling2D)  (None, 7, 7, 512)         0         \n",
            "                                                                 \n",
            " flatten (Flatten)           (None, 25088)             0         \n",
            "                                                                 \n",
            " fc1 (Dense)                 (None, 4096)              102764544 \n",
            "                                                                 \n",
            " fc2 (Dense)                 (None, 4096)              16781312  \n",
            "                                                                 \n",
            " dense_1 (Dense)             (None, 4)                 16388     \n",
            "                                                                 \n",
            "=================================================================\n",
            "Total params: 134276932 (512.23 MB)\n",
            "Trainable params: 16388 (64.02 KB)\n",
            "Non-trainable params: 134260544 (512.16 MB)\n",
            "_________________________________________________________________\n"
          ]
        }
      ]
    },
    {
      "cell_type": "code",
      "source": [
        "model.compile(Adam(learning_rate=.001),\n",
        "               loss='categorical_crossentropy',\n",
        "               metrics=['accuracy'])\n",
        "\n",
        "history = model.fit(\n",
        "     train_dataset,\n",
        "     #steps_per_epoch = 6, #train_batches.samples // 12\n",
        "     validation_data = valid_dataset,\n",
        "     #validation_steps = 3, #valid_dataset.samples // 8,\n",
        "     epochs=8,\n",
        "     callbacks=[cb],\n",
        "     verbose=1)"
      ],
      "metadata": {
        "colab": {
          "base_uri": "https://localhost:8080/"
        },
        "id": "92qYLz_81eha",
        "outputId": "ebe1253d-8a0e-42ee-afcb-568d2eefca32"
      },
      "execution_count": null,
      "outputs": [
        {
          "output_type": "stream",
          "name": "stdout",
          "text": [
            "Epoch 1/8\n",
            "6/6 [==============================] - 3s 215ms/step - loss: 1.4877 - accuracy: 0.4643 - val_loss: 0.5415 - val_accuracy: 0.6667\n",
            "Epoch 2/8\n",
            "6/6 [==============================] - 1s 109ms/step - loss: 0.4233 - accuracy: 0.8333 - val_loss: 0.5970 - val_accuracy: 0.6667\n",
            "Epoch 3/8\n",
            "6/6 [==============================] - 1s 101ms/step - loss: 0.2140 - accuracy: 0.9167 - val_loss: 0.1146 - val_accuracy: 1.0000\n",
            "Epoch 4/8\n",
            "6/6 [==============================] - 1s 99ms/step - loss: 0.1029 - accuracy: 0.9643 - val_loss: 0.0574 - val_accuracy: 1.0000\n",
            "Epoch 5/8\n",
            "6/6 [==============================] - 1s 101ms/step - loss: 0.0679 - accuracy: 0.9762 - val_loss: 0.1062 - val_accuracy: 0.9167\n",
            "Epoch 6/8\n",
            "6/6 [==============================] - 1s 101ms/step - loss: 0.0420 - accuracy: 1.0000 - val_loss: 0.1080 - val_accuracy: 1.0000\n",
            "Epoch 7/8\n",
            "6/6 [==============================] - 1s 101ms/step - loss: 0.0275 - accuracy: 1.0000 - val_loss: 0.0725 - val_accuracy: 1.0000\n",
            "Epoch 8/8\n",
            "6/6 [==============================] - 1s 99ms/step - loss: 0.0235 - accuracy: 1.0000 - val_loss: 0.0596 - val_accuracy: 1.0000\n"
          ]
        }
      ]
    },
    {
      "cell_type": "code",
      "source": [
        "#Output our callback object\n",
        "print(cb.logs)\n",
        "print(\"Total Model Training Time:\", sum(cb.logs))"
      ],
      "metadata": {
        "colab": {
          "base_uri": "https://localhost:8080/"
        },
        "id": "m92wVlMq2qIZ",
        "outputId": "b2429f25-bd99-48d0-97f4-2cbeac159a2d"
      },
      "execution_count": null,
      "outputs": [
        {
          "output_type": "stream",
          "name": "stdout",
          "text": [
            "[3.25933397, 1.4111163690000126, 1.1294825690000039, 0.9960438869999848, 1.0036247019999678, 1.0012039359999676, 1.0005265439999675, 0.9847180689999959]\n",
            "Total Model Training Time: 10.7860500459999\n"
          ]
        }
      ]
    },
    {
      "cell_type": "code",
      "source": [
        "#Learning Curve\n",
        "def plot_loss(history):\n",
        "  plt.plot(history.history['loss'], label='loss')\n",
        "  plt.plot(history.history['val_loss'], label='val_loss')\n",
        "  plt.ylim([0, 2])\n",
        "  plt.xlabel('Epoch')\n",
        "  plt.ylabel('Error')\n",
        "  plt.legend()\n",
        "  plt.grid(True)\n",
        "\n",
        "plot_loss(history)"
      ],
      "metadata": {
        "colab": {
          "base_uri": "https://localhost:8080/",
          "height": 455
        },
        "id": "iYO7BrpF43i7",
        "outputId": "96fe3ae3-4e93-4fb1-8454-a41dc65a598e"
      },
      "execution_count": null,
      "outputs": [
        {
          "output_type": "display_data",
          "data": {
            "text/plain": [
              "<Figure size 640x480 with 1 Axes>"
            ],
            "image/png": "[encoded data removed]"
          },
          "metadata": {}
        }
      ]
    },
    {
      "cell_type": "code",
      "source": [
        "#Evaluate our model\n",
        "score = model.evaluate(test_dataset, steps = 1, verbose=0)\n",
        "print(\"Test loss:\", score[0])\n",
        "print(\"Test accuracy:\", score[1])"
      ],
      "metadata": {
        "colab": {
          "base_uri": "https://localhost:8080/"
        },
        "id": "Q9jFLPbl16YF",
        "outputId": "0bb2511f-7be9-4672-aa4d-ce41c77e991a"
      },
      "execution_count": null,
      "outputs": [
        {
          "output_type": "stream",
          "name": "stdout",
          "text": [
            "Test loss: 1.5711383819580078\n",
            "Test accuracy: 0.3333333432674408\n"
          ]
        }
      ]
    },
    {
      "cell_type": "code",
      "source": [
        "def plot_confusion_matrix(cm, classes,\n",
        "                          normalize=False,\n",
        "                          title='Confusion matrix',\n",
        "                          cmap=plt.cm.Blues):\n",
        "    \"\"\"\n",
        "    This function prints and plots the confusion matrix.\n",
        "    Normalization can be applied by setting `normalize=True`.\n",
        "    \"\"\"\n",
        "    plt.imshow(cm, interpolation='nearest', cmap=cmap)\n",
        "    plt.title(title)\n",
        "    plt.colorbar()\n",
        "    tick_marks = np.arange(len(classes))\n",
        "    plt.xticks(tick_marks, classes, rotation=45)\n",
        "    plt.yticks(tick_marks, classes)\n",
        "\n",
        "    if normalize:\n",
        "        cm = cm.astype('float') / cm.sum(axis=1)[:, np.newaxis]\n",
        "        print(\"Normalized confusion matrix\")\n",
        "    else:\n",
        "        print('Confusion matrix, without normalization')\n",
        "\n",
        "    print(cm)\n",
        "\n",
        "    thresh = cm.max() / 3.\n",
        "    for i, j in itertools.product(range(cm.shape[0]), range(cm.shape[1])):\n",
        "        plt.text(j, i, cm[i, j],\n",
        "                 horizontalalignment=\"center\",\n",
        "                 color=\"white\" if cm[i, j] > thresh else \"black\")\n",
        "\n",
        "    plt.tight_layout()\n",
        "    plt.ylabel('True label')\n",
        "    plt.xlabel('Predicted label')\n",
        "\n",
        "test_batches = ImageDataGenerator() \\\n",
        "                .flow_from_directory(test_path,\n",
        "                                     target_size=(224,224),\n",
        "                                     shuffle=False,\n",
        "                                     batch_size=133)\n",
        "test_imgs, test_labels = next(test_batches)\n",
        "predictions = model.predict(test_batches, steps=1, verbose=0)\n",
        "cm = confusion_matrix(test_labels.argmax(axis=1), predictions.argmax(axis=1), binary=False)\n",
        "cm_plot_labels = class_names\n",
        "plot_confusion_matrix(cm, cm_plot_labels, title='Confusion Matrix')"
      ],
      "metadata": {
        "colab": {
          "base_uri": "https://localhost:8080/",
          "height": 628
        },
        "id": "F4UDO8iI2Gql",
        "outputId": "785db7e9-016a-4997-869f-691d88d8ba11"
      },
      "execution_count": null,
      "outputs": [
        {
          "output_type": "stream",
          "name": "stdout",
          "text": [
            "Found 24 images belonging to 5 classes.\n",
            "Confusion matrix, without normalization\n",
            "[[0 0 0 0 0]\n",
            " [1 1 0 4 0]\n",
            " [0 4 2 0 0]\n",
            " [1 1 4 0 0]\n",
            " [0 0 0 6 0]]\n"
          ]
        },
        {
          "output_type": "display_data",
          "data": {
            "text/plain": [
              "<Figure size 640x480 with 2 Axes>"
            ],
            "image/png": "[encoded data removed]"
          },
          "metadata": {}
        }
      ]
    }
  ]
}