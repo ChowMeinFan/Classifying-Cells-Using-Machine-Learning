{
  "nbformat": 4,
  "nbformat_minor": 0,
  "metadata": {
    "colab": {
      "provenance": [],
      "gpuType": "T4",
      "mount_file_id": "11819H_9qQiGB0-EmkHl0-Fb-INuumpja",
      "authorship_tag": "ABX9TyPnTUzY5Blmn9mnPFpCdgGy",
      "include_colab_link": true
    },
    "kernelspec": {
      "name": "python3",
      "display_name": "Python 3"
    },
    "language_info": {
      "name": "python"
    },
    "accelerator": "GPU"
  },
  "cells": [
    {
      "cell_type": "markdown",
      "metadata": {
        "id": "view-in-github",
        "colab_type": "text"
      },
      "source": [
        "<a href=\"https://colab.research.google.com/github/ChowMeinFan/Classifying-Cells-Using-Machine-Learning/blob/main/ClassifyingCells(NN).ipynb\" target=\"_parent\"><img src=\"https://colab.research.google.com/assets/colab-badge.svg\" alt=\"Open In Colab\"/></a>"
      ]
    },
    {
      "cell_type": "code",
      "source": [
        "#Mount our Drive\n",
        "from google.colab import drive\n",
        "drive.mount('/content/drive')"
      ],
      "metadata": {
        "id": "ZcbotFH624OI",
        "colab": {
          "base_uri": "https://localhost:8080/"
        },
        "outputId": "0a3ca940-a22f-4169-decd-db22adcd9acd"
      },
      "execution_count": null,
      "outputs": [
        {
          "output_type": "stream",
          "name": "stdout",
          "text": [
            "Drive already mounted at /content/drive; to attempt to forcibly remount, call drive.mount(\"/content/drive\", force_remount=True).\n"
          ]
        }
      ]
    },
    {
      "cell_type": "code",
      "execution_count": null,
      "metadata": {
        "id": "az4-XzbFD-0c"
      },
      "outputs": [],
      "source": [
        "#Import necessary packages\n",
        "import numpy as np\n",
        "from tensorflow import keras\n",
        "from keras import layers\n",
        "from keras.models import load_model\n",
        "from keras.models import Sequential\n",
        "from keras.layers import Activation, Dense, Flatten\n",
        "from keras.optimizers import Adam, SGD, RMSprop, Adagrad, Adadelta, Nadam, Adamax, Lion, Adafactor\n",
        "from keras.metrics import categorical_crossentropy\n",
        "from keras.preprocessing.image import ImageDataGenerator\n",
        "from keras.layers import BatchNormalization\n",
        "from mlxtend.evaluate import confusion_matrix\n",
        "import itertools\n",
        "import matplotlib.pyplot as plt\n",
        "import tensorflow as tf\n",
        "\n",
        "image_size = (1097, 1097)\n",
        "classes = ['COS7', 'HEK293T', 'L', 'NC']\n",
        "\n",
        "#Separate individual paths\n",
        "train_path = '/content/drive/MyDrive/CSC308CellImagesV2/TrainingData'\n",
        "test_path = '/content/drive/MyDrive/CSC308CellImagesV2/TestingData'\n",
        "valid_path = '/content/drive/MyDrive/CSC308CellImagesV2/ValidationData'"
      ]
    },
    {
      "cell_type": "code",
      "source": [
        "#Load the dataset of cell images\n",
        "train_datagen = ImageDataGenerator(validation_split=0.25)\n",
        "\n",
        "train_dataset = train_datagen.flow_from_directory(train_path, image_size, classes=classes, batch_size = 6)\n",
        "valid_dataset = train_datagen.flow_from_directory(valid_path, image_size, classes=classes, batch_size = 3)\n",
        "test_dataset = ImageDataGenerator().flow_from_directory(test_path, image_size, classes=classes, batch_size = 3)"
      ],
      "metadata": {
        "colab": {
          "base_uri": "https://localhost:8080/"
        },
        "id": "6G5EHUIdhjmX",
        "outputId": "3a535c4e-5a99-48fb-f53c-b34dac024e78"
      },
      "execution_count": null,
      "outputs": [
        {
          "output_type": "stream",
          "name": "stdout",
          "text": [
            "Found 84 images belonging to 4 classes.\n",
            "Found 12 images belonging to 4 classes.\n",
            "Found 18 images belonging to 4 classes.\n"
          ]
        }
      ]
    },
    {
      "cell_type": "code",
      "source": [
        "#train_dataset = tf.reshape(train_dataset, (-1, 10))"
      ],
      "metadata": {
        "id": "a9iLAiHMrT4U"
      },
      "execution_count": null,
      "outputs": []
    },
    {
      "cell_type": "code",
      "source": [
        "#def normalize_img(image, label):\n",
        "#  \"\"\"Normalizes images: `uint8` -> `float32`.\"\"\"\n",
        "#  return tf.cast(image, tf.float32) / 255., label\n",
        "\n",
        "#train_dataset = train_dataset.map(\n",
        "#    normalize_img, num_parallel_calls=tf.data.AUTOTUNE)\n",
        "#train_dataset = train_dataset.cache()\n",
        "##train_dataset = train_dataset.shuffle(ds_info.splits['train'].num_examples)\n",
        "#train_dataset = train_dataset.batch(12)\n",
        "#train_dataset = train_dataset.prefetch(tf.data.AUTOTUNE)"
      ],
      "metadata": {
        "id": "rmzP5OlbbHBQ"
      },
      "execution_count": null,
      "outputs": []
    },
    {
      "cell_type": "code",
      "source": [
        "#valid_dataset = valid_dataset.map(\n",
        "#    normalize_img, num_parallel_calls=tf.data.AUTOTUNE)\n",
        "#valid_dataset = valid_dataset.cache()\n",
        "##train_dataset = train_dataset.shuffle(ds_info.splits['train'].num_examples)\n",
        "#valid_dataset = valid_dataset.batch(12)\n",
        "#valid_dataset = valid_dataset.prefetch(tf.data.AUTOTUNE)"
      ],
      "metadata": {
        "id": "hGODxadDbHzi"
      },
      "execution_count": null,
      "outputs": []
    },
    {
      "cell_type": "code",
      "source": [
        "#test_dataset = test_dataset.map(\n",
        "#    normalize_img, num_parallel_calls=tf.data.AUTOTUNE)\n",
        "#test_dataset = test_dataset.cache()\n",
        "##train_dataset = train_dataset.shuffle(ds_info.splits['train'].num_examples)\n",
        "#test_dataset = test_dataset.batch(12)\n",
        "#test_dataset = test_dataset.prefetch(tf.data.AUTOTUNE)"
      ],
      "metadata": {
        "id": "POf3NO_UbIbq"
      },
      "execution_count": null,
      "outputs": []
    },
    {
      "cell_type": "code",
      "source": [
        "#Function to track time, Initialize a callback object\n",
        "from timeit import default_timer as timer\n",
        "\n",
        "class TimingCallback(keras.callbacks.Callback):\n",
        "    def __init__(self, logs={}):\n",
        "        self.logs=[]\n",
        "    def on_epoch_begin(self, epoch, logs={}):\n",
        "        self.starttime = timer()\n",
        "    def on_epoch_end(self, epoch, logs={}):\n",
        "        self.logs.append(timer()-self.starttime)\n",
        "\n",
        "cb = TimingCallback()"
      ],
      "metadata": {
        "id": "gAFsMwoIzZ4Q"
      },
      "execution_count": null,
      "outputs": []
    },
    {
      "cell_type": "code",
      "source": [
        "model = Sequential([\n",
        "  keras.layers.InputLayer(input_shape=(1097, 1097, 3)),\n",
        "  keras.layers.Flatten(),\n",
        "  keras.layers.Dense(128, activation='relu'),\n",
        "  keras.layers.Dense(128, activation='relu'),\n",
        "  keras.layers.Dense(64, activation='relu'),\n",
        "  keras.layers.Dense(4)\n",
        "])\n",
        "\n",
        "model.summary()"
      ],
      "metadata": {
        "id": "mHb15eVqidIN",
        "colab": {
          "base_uri": "https://localhost:8080/"
        },
        "outputId": "ba0b7602-63d0-4bda-b937-a89f1e5b76b9"
      },
      "execution_count": null,
      "outputs": [
        {
          "output_type": "stream",
          "name": "stdout",
          "text": [
            "Model: \"sequential_2\"\n",
            "_________________________________________________________________\n",
            " Layer (type)                Output Shape              Param #   \n",
            "=================================================================\n",
            " flatten_2 (Flatten)         (None, 3610227)           0         \n",
            "                                                                 \n",
            " dense_8 (Dense)             (None, 128)               462109184 \n",
            "                                                                 \n",
            " dense_9 (Dense)             (None, 128)               16512     \n",
            "                                                                 \n",
            " dense_10 (Dense)            (None, 64)                8256      \n",
            "                                                                 \n",
            " dense_11 (Dense)            (None, 4)                 260       \n",
            "                                                                 \n",
            "=================================================================\n",
            "Total params: 462134212 (1.72 GB)\n",
            "Trainable params: 462134212 (1.72 GB)\n",
            "Non-trainable params: 0 (0.00 Byte)\n",
            "_________________________________________________________________\n"
          ]
        }
      ]
    },
    {
      "cell_type": "code",
      "source": [
        "#Compile and Fit our Neural Network\n",
        "model.compile( optimizer=Adam(learning_rate =.001),\n",
        "               loss='categorical_crossentropy',\n",
        "               metrics=['accuracy'])\n",
        "\n",
        "history = model.fit(\n",
        "     x = train_dataset,\n",
        "     validation_data = valid_dataset,\n",
        "     epochs=100,\n",
        "     callbacks=[cb],\n",
        "     verbose=1)\n",
        "print(\"Training Complete!\")"
      ],
      "metadata": {
        "id": "dktpGOPfin7z",
        "colab": {
          "base_uri": "https://localhost:8080/",
          "height": 1000
        },
        "outputId": "d3f7e100-8550-4738-c6ce-e7ee486c5062"
      },
      "execution_count": null,
      "outputs": [
        {
          "output_type": "stream",
          "name": "stdout",
          "text": [
            "Epoch 1/100\n"
          ]
        },
        {
          "output_type": "error",
          "ename": "ResourceExhaustedError",
          "evalue": "ignored",
          "traceback": [
            "\u001b[0;31m---------------------------------------------------------------------------\u001b[0m",
            "\u001b[0;31mResourceExhaustedError\u001b[0m                    Traceback (most recent call last)",
            "\u001b[0;32m<ipython-input-34-34f78b496b4e>\u001b[0m in \u001b[0;36m<cell line: 6>\u001b[0;34m()\u001b[0m\n\u001b[1;32m      4\u001b[0m                metrics=['accuracy'])\n\u001b[1;32m      5\u001b[0m \u001b[0;34m\u001b[0m\u001b[0m\n\u001b[0;32m----> 6\u001b[0;31m history = model.fit(\n\u001b[0m\u001b[1;32m      7\u001b[0m      \u001b[0mx\u001b[0m \u001b[0;34m=\u001b[0m \u001b[0mtrain_dataset\u001b[0m\u001b[0;34m,\u001b[0m\u001b[0;34m\u001b[0m\u001b[0;34m\u001b[0m\u001b[0m\n\u001b[1;32m      8\u001b[0m      \u001b[0mvalidation_data\u001b[0m \u001b[0;34m=\u001b[0m \u001b[0mvalid_dataset\u001b[0m\u001b[0;34m,\u001b[0m\u001b[0;34m\u001b[0m\u001b[0;34m\u001b[0m\u001b[0m\n",
            "\u001b[0;32m/usr/local/lib/python3.10/dist-packages/keras/src/utils/traceback_utils.py\u001b[0m in \u001b[0;36merror_handler\u001b[0;34m(*args, **kwargs)\u001b[0m\n\u001b[1;32m     68\u001b[0m             \u001b[0;31m# To get the full stack trace, call:\u001b[0m\u001b[0;34m\u001b[0m\u001b[0;34m\u001b[0m\u001b[0m\n\u001b[1;32m     69\u001b[0m             \u001b[0;31m# `tf.debugging.disable_traceback_filtering()`\u001b[0m\u001b[0;34m\u001b[0m\u001b[0;34m\u001b[0m\u001b[0m\n\u001b[0;32m---> 70\u001b[0;31m             \u001b[0;32mraise\u001b[0m \u001b[0me\u001b[0m\u001b[0;34m.\u001b[0m\u001b[0mwith_traceback\u001b[0m\u001b[0;34m(\u001b[0m\u001b[0mfiltered_tb\u001b[0m\u001b[0;34m)\u001b[0m \u001b[0;32mfrom\u001b[0m \u001b[0;32mNone\u001b[0m\u001b[0;34m\u001b[0m\u001b[0;34m\u001b[0m\u001b[0m\n\u001b[0m\u001b[1;32m     71\u001b[0m         \u001b[0;32mfinally\u001b[0m\u001b[0;34m:\u001b[0m\u001b[0;34m\u001b[0m\u001b[0;34m\u001b[0m\u001b[0m\n\u001b[1;32m     72\u001b[0m             \u001b[0;32mdel\u001b[0m \u001b[0mfiltered_tb\u001b[0m\u001b[0;34m\u001b[0m\u001b[0;34m\u001b[0m\u001b[0m\n",
            "\u001b[0;32m/usr/local/lib/python3.10/dist-packages/tensorflow/python/eager/execute.py\u001b[0m in \u001b[0;36mquick_execute\u001b[0;34m(op_name, num_outputs, inputs, attrs, ctx, name)\u001b[0m\n\u001b[1;32m     51\u001b[0m   \u001b[0;32mtry\u001b[0m\u001b[0;34m:\u001b[0m\u001b[0;34m\u001b[0m\u001b[0;34m\u001b[0m\u001b[0m\n\u001b[1;32m     52\u001b[0m     \u001b[0mctx\u001b[0m\u001b[0;34m.\u001b[0m\u001b[0mensure_initialized\u001b[0m\u001b[0;34m(\u001b[0m\u001b[0;34m)\u001b[0m\u001b[0;34m\u001b[0m\u001b[0;34m\u001b[0m\u001b[0m\n\u001b[0;32m---> 53\u001b[0;31m     tensors = pywrap_tfe.TFE_Py_Execute(ctx._handle, device_name, op_name,\n\u001b[0m\u001b[1;32m     54\u001b[0m                                         inputs, attrs, num_outputs)\n\u001b[1;32m     55\u001b[0m   \u001b[0;32mexcept\u001b[0m \u001b[0mcore\u001b[0m\u001b[0;34m.\u001b[0m\u001b[0m_NotOkStatusException\u001b[0m \u001b[0;32mas\u001b[0m \u001b[0me\u001b[0m\u001b[0;34m:\u001b[0m\u001b[0;34m\u001b[0m\u001b[0;34m\u001b[0m\u001b[0m\n",
            "\u001b[0;31mResourceExhaustedError\u001b[0m: Graph execution error:\n\nDetected at node Adam/StatefulPartitionedCall defined at (most recent call last):\n  File \"/usr/lib/python3.10/runpy.py\", line 196, in _run_module_as_main\n\n  File \"/usr/lib/python3.10/runpy.py\", line 86, in _run_code\n\n  File \"/usr/local/lib/python3.10/dist-packages/colab_kernel_launcher.py\", line 37, in <module>\n\n  File \"/usr/local/lib/python3.10/dist-packages/traitlets/config/application.py\", line 992, in launch_instance\n\n  File \"/usr/local/lib/python3.10/dist-packages/ipykernel/kernelapp.py\", line 619, in start\n\n  File \"/usr/local/lib/python3.10/dist-packages/tornado/platform/asyncio.py\", line 195, in start\n\n  File \"/usr/lib/python3.10/asyncio/base_events.py\", line 603, in run_forever\n\n  File \"/usr/lib/python3.10/asyncio/base_events.py\", line 1909, in _run_once\n\n  File \"/usr/lib/python3.10/asyncio/events.py\", line 80, in _run\n\n  File \"/usr/local/lib/python3.10/dist-packages/tornado/ioloop.py\", line 685, in <lambda>\n\n  File \"/usr/local/lib/python3.10/dist-packages/tornado/ioloop.py\", line 738, in _run_callback\n\n  File \"/usr/local/lib/python3.10/dist-packages/tornado/gen.py\", line 825, in inner\n\n  File \"/usr/local/lib/python3.10/dist-packages/tornado/gen.py\", line 786, in run\n\n  File \"/usr/local/lib/python3.10/dist-packages/ipykernel/kernelbase.py\", line 377, in dispatch_queue\n\n  File \"/usr/local/lib/python3.10/dist-packages/tornado/gen.py\", line 250, in wrapper\n\n  File \"/usr/local/lib/python3.10/dist-packages/tornado/gen.py\", line 748, in __init__\n\n  File \"/usr/local/lib/python3.10/dist-packages/tornado/gen.py\", line 786, in run\n\n  File \"/usr/local/lib/python3.10/dist-packages/ipykernel/kernelbase.py\", line 361, in process_one\n\n  File \"/usr/local/lib/python3.10/dist-packages/tornado/gen.py\", line 234, in wrapper\n\n  File \"/usr/local/lib/python3.10/dist-packages/ipykernel/kernelbase.py\", line 261, in dispatch_shell\n\n  File \"/usr/local/lib/python3.10/dist-packages/tornado/gen.py\", line 234, in wrapper\n\n  File \"/usr/local/lib/python3.10/dist-packages/ipykernel/kernelbase.py\", line 539, in execute_request\n\n  File \"/usr/local/lib/python3.10/dist-packages/tornado/gen.py\", line 234, in wrapper\n\n  File \"/usr/local/lib/python3.10/dist-packages/ipykernel/ipkernel.py\", line 302, in do_execute\n\n  File \"/usr/local/lib/python3.10/dist-packages/ipykernel/zmqshell.py\", line 539, in run_cell\n\n  File \"/usr/local/lib/python3.10/dist-packages/IPython/core/interactiveshell.py\", line 2975, in run_cell\n\n  File \"/usr/local/lib/python3.10/dist-packages/IPython/core/interactiveshell.py\", line 3030, in _run_cell\n\n  File \"/usr/local/lib/python3.10/dist-packages/IPython/core/async_helpers.py\", line 78, in _pseudo_sync_runner\n\n  File \"/usr/local/lib/python3.10/dist-packages/IPython/core/interactiveshell.py\", line 3257, in run_cell_async\n\n  File \"/usr/local/lib/python3.10/dist-packages/IPython/core/interactiveshell.py\", line 3473, in run_ast_nodes\n\n  File \"/usr/local/lib/python3.10/dist-packages/IPython/core/interactiveshell.py\", line 3553, in run_code\n\n  File \"<ipython-input-34-34f78b496b4e>\", line 6, in <cell line: 6>\n\n  File \"/usr/local/lib/python3.10/dist-packages/keras/src/utils/traceback_utils.py\", line 65, in error_handler\n\n  File \"/usr/local/lib/python3.10/dist-packages/keras/src/engine/training.py\", line 1807, in fit\n\n  File \"/usr/local/lib/python3.10/dist-packages/keras/src/engine/training.py\", line 1401, in train_function\n\n  File \"/usr/local/lib/python3.10/dist-packages/keras/src/engine/training.py\", line 1384, in step_function\n\n  File \"/usr/local/lib/python3.10/dist-packages/keras/src/engine/training.py\", line 1373, in run_step\n\n  File \"/usr/local/lib/python3.10/dist-packages/keras/src/engine/training.py\", line 1154, in train_step\n\n  File \"/usr/local/lib/python3.10/dist-packages/keras/src/optimizers/optimizer.py\", line 544, in minimize\n\n  File \"/usr/local/lib/python3.10/dist-packages/keras/src/optimizers/optimizer.py\", line 1223, in apply_gradients\n\n  File \"/usr/local/lib/python3.10/dist-packages/keras/src/optimizers/optimizer.py\", line 652, in apply_gradients\n\n  File \"/usr/local/lib/python3.10/dist-packages/keras/src/optimizers/optimizer.py\", line 1253, in _internal_apply_gradients\n\n  File \"/usr/local/lib/python3.10/dist-packages/keras/src/optimizers/optimizer.py\", line 1345, in _distributed_apply_gradients_fn\n\n  File \"/usr/local/lib/python3.10/dist-packages/keras/src/optimizers/optimizer.py\", line 1340, in apply_grad_to_update_var\n\nOut of memory while trying to allocate 3696872580 bytes.\nBufferAssignment OOM Debugging.\nBufferAssignment stats:\n             parameter allocation:    6.89GiB\n              constant allocation:         8B\n        maybe_live_out allocation:    5.16GiB\n     preallocated temp allocation:    3.44GiB\n  preallocated temp fragmentation:       124B (0.00%)\n                 total allocation:   10.33GiB\nPeak buffers:\n\tBuffer 1:\n\t\tSize: 1.72GiB\n\t\tXLA Label: fusion\n\t\tShape: f32[3610227,128]\n\t\t==========================\n\n\tBuffer 2:\n\t\tSize: 1.72GiB\n\t\tXLA Label: fusion\n\t\tShape: f32[3610227,128]\n\t\t==========================\n\n\tBuffer 3:\n\t\tSize: 1.72GiB\n\t\tOperator: op_name=\"XLA_Args\"\n\t\tEntry Parameter Subshape: f32[3610227,128]\n\t\t==========================\n\n\tBuffer 4:\n\t\tSize: 1.72GiB\n\t\tOperator: op_name=\"XLA_Args\"\n\t\tEntry Parameter Subshape: f32[3610227,128]\n\t\t==========================\n\n\tBuffer 5:\n\t\tSize: 1.72GiB\n\t\tOperator: op_name=\"XLA_Args\"\n\t\tEntry Parameter Subshape: f32[3610227,128]\n\t\t==========================\n\n\tBuffer 6:\n\t\tSize: 1.72GiB\n\t\tOperator: op_name=\"XLA_Args\"\n\t\tEntry Parameter Subshape: f32[3610227,128]\n\t\t==========================\n\n\tBuffer 7:\n\t\tSize: 24B\n\t\tOperator: op_type=\"AssignSubVariableOp\" op_name=\"AssignSubVariableOp\" source_file=\"/usr/local/lib/python3.10/dist-packages/tensorflow/python/framework/ops.py\" source_line=1160\n\t\tXLA Label: fusion\n\t\tShape: (f32[3610227,128], f32[3610227,128], f32[3610227,128])\n\t\t==========================\n\n\tBuffer 8:\n\t\tSize: 8B\n\t\tOperator: op_name=\"XLA_Args\"\n\t\tEntry Parameter Subshape: s64[]\n\t\t==========================\n\n\tBuffer 9:\n\t\tSize: 4B\n\t\tOperator: op_type=\"Pow\" op_name=\"Pow_1\" source_file=\"/usr/local/lib/python3.10/dist-packages/tensorflow/python/framework/ops.py\" source_line=1160 deduplicated_name=\"fusion.4\"\n\t\tXLA Label: fusion\n\t\tShape: f32[]\n\t\t==========================\n\n\tBuffer 10:\n\t\tSize: 4B\n\t\tOperator: op_type=\"Pow\" op_name=\"Pow\" source_file=\"/usr/local/lib/python3.10/dist-packages/tensorflow/python/framework/ops.py\" source_line=1160 deduplicated_name=\"fusion.4\"\n\t\tXLA Label: fusion\n\t\tShape: f32[]\n\t\t==========================\n\n\tBuffer 11:\n\t\tSize: 4B\n\t\tOperator: op_type=\"Pow\" op_name=\"Pow_1\" source_file=\"/usr/local/lib/python3.10/dist-packages/tensorflow/python/framework/ops.py\" source_line=1160\n\t\tXLA Label: constant\n\t\tShape: f32[]\n\t\t==========================\n\n\tBuffer 12:\n\t\tSize: 4B\n\t\tOperator: op_name=\"XLA_Args\"\n\t\tEntry Parameter Subshape: f32[]\n\t\t==========================\n\n\tBuffer 13:\n\t\tSize: 4B\n\t\tOperator: op_type=\"Pow\" op_name=\"Pow\" source_file=\"/usr/local/lib/python3.10/dist-packages/tensorflow/python/framework/ops.py\" source_line=1160\n\t\tXLA Label: constant\n\t\tShape: f32[]\n\t\t==========================\n\n\n\t [[{{node Adam/StatefulPartitionedCall}}]]\nHint: If you want to see a list of allocated tensors when OOM happens, add report_tensor_allocations_upon_oom to RunOptions for current allocation info. This isn't available when running in Eager mode.\n [Op:__inference_train_function_14100]"
          ]
        }
      ]
    },
    {
      "cell_type": "code",
      "source": [
        "#Output our callback object\n",
        "print(cb.logs)\n",
        "print(\"Total Model Training Time:\", sum(cb.logs))"
      ],
      "metadata": {
        "id": "1ACXjqY4zhZX"
      },
      "execution_count": null,
      "outputs": []
    },
    {
      "cell_type": "code",
      "source": [
        "#Learning Curve\n",
        "def plot_loss(history):\n",
        "  plt.plot(history.history['loss'], label='loss')\n",
        "  plt.plot(history.history['val_loss'], label='val_loss')\n",
        "  plt.ylim([0, 20])\n",
        "  plt.xlabel('Epoch')\n",
        "  plt.ylabel('Error')\n",
        "  plt.legend()\n",
        "  plt.grid(True)\n",
        "\n",
        "plot_loss(history)"
      ],
      "metadata": {
        "id": "GZdG1-lNziBq"
      },
      "execution_count": null,
      "outputs": []
    },
    {
      "cell_type": "code",
      "source": [
        "#Evaluate our model\n",
        "score = model.evaluate(test_dataset, steps = 1, verbose=0)\n",
        "print(\"Test loss:\", score[0])\n",
        "print(\"Test accuracy:\", score[1])"
      ],
      "metadata": {
        "id": "PqJorNdlzkI9"
      },
      "execution_count": null,
      "outputs": []
    },
    {
      "cell_type": "code",
      "source": [
        "def plot_confusion_matrix(cm, classes,\n",
        "                          normalize=False,\n",
        "                          title='Confusion matrix',\n",
        "                          cmap=plt.cm.Blues):\n",
        "    \"\"\"\n",
        "    This function prints and plots the confusion matrix.\n",
        "    Normalization can be applied by setting `normalize=True`.\n",
        "    \"\"\"\n",
        "    plt.imshow(cm, interpolation='nearest', cmap=cmap)\n",
        "    plt.title(title)\n",
        "    plt.colorbar()\n",
        "    tick_marks = np.arange(len(classes))\n",
        "    plt.xticks(tick_marks, classes, rotation=45)\n",
        "    plt.yticks(tick_marks, classes)\n",
        "\n",
        "    if normalize:\n",
        "        cm = cm.astype('float') / cm.sum(axis=1)[:, np.newaxis]\n",
        "        print(\"Normalized confusion matrix\")\n",
        "    else:\n",
        "        print('Confusion matrix, without normalization')\n",
        "\n",
        "    print(cm)\n",
        "\n",
        "    thresh = cm.max() / 3.\n",
        "    for i, j in itertools.product(range(cm.shape[0]), range(cm.shape[1])):\n",
        "        plt.text(j, i, cm[i, j],\n",
        "                 horizontalalignment=\"center\",\n",
        "                 color=\"white\" if cm[i, j] > thresh else \"black\")\n",
        "\n",
        "    plt.tight_layout()\n",
        "    plt.ylabel('True label')\n",
        "    plt.xlabel('Predicted label')\n",
        "\n",
        "test_batches = ImageDataGenerator() \\\n",
        "                .flow_from_directory(test_path,\n",
        "                                     target_size=(1097,1097),\n",
        "                                     shuffle=False,\n",
        "                                     batch_size=24)\n",
        "test_imgs, test_labels = next(test_batches)\n",
        "predictions = model.predict(test_batches, steps=1, verbose=0)\n",
        "cm = confusion_matrix(test_labels.argmax(axis=1), predictions.argmax(axis=1), binary=False)\n",
        "cm_plot_labels = classes\n",
        "plot_confusion_matrix(cm, cm_plot_labels, title='Confusion Matrix')"
      ],
      "metadata": {
        "id": "50bsoy6szskw"
      },
      "execution_count": null,
      "outputs": []
    }
  ]
}